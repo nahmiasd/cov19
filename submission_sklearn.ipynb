{
 "cells": [
  {
   "cell_type": "code",
   "execution_count": 1,
   "id": "872bf5db",
   "metadata": {},
   "outputs": [
    {
     "name": "stderr",
     "output_type": "stream",
     "text": [
      "C:\\Users\\danie\\Desktop\\DS projects\\payoneer_ds_position_task\\utils.py:4: TqdmExperimentalWarning: Using `tqdm.autonotebook.tqdm` in notebook mode. Use `tqdm.tqdm` instead to force console mode (e.g. in jupyter console)\n",
      "  from tqdm.autonotebook import tqdm\n"
     ]
    }
   ],
   "source": [
    "import pandas as pd\n",
    "import numpy as np\n",
    "from tqdm.notebook import tqdm\n",
    "from utils import load_data,features_to_drop,numerical_features\n",
    "from sklearn.compose import ColumnTransformer\n",
    "from sklearn.pipeline import Pipeline\n",
    "from sklearn.preprocessing import OneHotEncoder,RobustScaler\n",
    "from category_encoders import CatBoostEncoder\n",
    "from sklearn.ensemble import RandomForestClassifier,ExtraTreesClassifier,IsolationForest\n",
    "from sklearn.metrics import recall_score,precision_recall_curve,precision_score,plot_precision_recall_curve,f1_score\n",
    "from sklearn.model_selection import cross_val_score,train_test_split\n",
    "from lightgbm import LGBMClassifier\n",
    "from xgboost import XGBClassifier\n",
    "from sklearn.neighbors import LocalOutlierFactor\n",
    "from imblearn.ensemble import RUSBoostClassifier,BalancedRandomForestClassifier,EasyEnsembleClassifier\n",
    "np.random.seed(42)"
   ]
  },
  {
   "cell_type": "code",
   "execution_count": 2,
   "id": "2784fa50",
   "metadata": {},
   "outputs": [
    {
     "data": {
      "application/vnd.jupyter.widget-view+json": {
       "model_id": "5e6f26b9c29e4519922c872737eacbb0",
       "version_major": 2,
       "version_minor": 0
      },
      "text/plain": [
       "  0%|          | 0/9 [00:00<?, ?it/s]"
      ]
     },
     "metadata": {},
     "output_type": "display_data"
    }
   ],
   "source": [
    "df = load_data()\n",
    "df = df.drop(features_to_drop,axis=1)"
   ]
  },
  {
   "cell_type": "code",
   "execution_count": 3,
   "id": "417c6ff0",
   "metadata": {},
   "outputs": [],
   "source": [
    "label_col = 'label'\n",
    "cat_features = df.columns.difference(numerical_features+[label_col])"
   ]
  },
  {
   "cell_type": "code",
   "execution_count": 4,
   "id": "2d59fa4e",
   "metadata": {},
   "outputs": [
    {
     "name": "stdout",
     "output_type": "stream",
     "text": [
      "ohe cols: ['feature_16', 'feature_18', 'feature_9']\n",
      "taget encoding cols: ['feature_13', 'feature_14', 'feature_17', 'feature_20', 'feature_5', 'feature_6', 'feature_7']\n"
     ]
    }
   ],
   "source": [
    "ohe_cols = []\n",
    "target_encoding_cols = []\n",
    "for col in cat_features:\n",
    "    if df[col].nunique()<=10:\n",
    "        ohe_cols.append(col)\n",
    "    else:\n",
    "        target_encoding_cols.append(col)\n",
    "print(f\"ohe cols: {ohe_cols}\")\n",
    "print(f\"taget encoding cols: {target_encoding_cols}\")"
   ]
  },
  {
   "cell_type": "code",
   "execution_count": 5,
   "id": "14ba21a6",
   "metadata": {},
   "outputs": [],
   "source": [
    "X=df.drop('label',axis=1)\n",
    "y= df['label']"
   ]
  },
  {
   "cell_type": "code",
   "execution_count": 6,
   "id": "7de870ee",
   "metadata": {},
   "outputs": [
    {
     "data": {
      "text/html": [
       "<style>#sk-container-id-1 {color: black;background-color: white;}#sk-container-id-1 pre{padding: 0;}#sk-container-id-1 div.sk-toggleable {background-color: white;}#sk-container-id-1 label.sk-toggleable__label {cursor: pointer;display: block;width: 100%;margin-bottom: 0;padding: 0.3em;box-sizing: border-box;text-align: center;}#sk-container-id-1 label.sk-toggleable__label-arrow:before {content: \"▸\";float: left;margin-right: 0.25em;color: #696969;}#sk-container-id-1 label.sk-toggleable__label-arrow:hover:before {color: black;}#sk-container-id-1 div.sk-estimator:hover label.sk-toggleable__label-arrow:before {color: black;}#sk-container-id-1 div.sk-toggleable__content {max-height: 0;max-width: 0;overflow: hidden;text-align: left;background-color: #f0f8ff;}#sk-container-id-1 div.sk-toggleable__content pre {margin: 0.2em;color: black;border-radius: 0.25em;background-color: #f0f8ff;}#sk-container-id-1 input.sk-toggleable__control:checked~div.sk-toggleable__content {max-height: 200px;max-width: 100%;overflow: auto;}#sk-container-id-1 input.sk-toggleable__control:checked~label.sk-toggleable__label-arrow:before {content: \"▾\";}#sk-container-id-1 div.sk-estimator input.sk-toggleable__control:checked~label.sk-toggleable__label {background-color: #d4ebff;}#sk-container-id-1 div.sk-label input.sk-toggleable__control:checked~label.sk-toggleable__label {background-color: #d4ebff;}#sk-container-id-1 input.sk-hidden--visually {border: 0;clip: rect(1px 1px 1px 1px);clip: rect(1px, 1px, 1px, 1px);height: 1px;margin: -1px;overflow: hidden;padding: 0;position: absolute;width: 1px;}#sk-container-id-1 div.sk-estimator {font-family: monospace;background-color: #f0f8ff;border: 1px dotted black;border-radius: 0.25em;box-sizing: border-box;margin-bottom: 0.5em;}#sk-container-id-1 div.sk-estimator:hover {background-color: #d4ebff;}#sk-container-id-1 div.sk-parallel-item::after {content: \"\";width: 100%;border-bottom: 1px solid gray;flex-grow: 1;}#sk-container-id-1 div.sk-label:hover label.sk-toggleable__label {background-color: #d4ebff;}#sk-container-id-1 div.sk-serial::before {content: \"\";position: absolute;border-left: 1px solid gray;box-sizing: border-box;top: 0;bottom: 0;left: 50%;z-index: 0;}#sk-container-id-1 div.sk-serial {display: flex;flex-direction: column;align-items: center;background-color: white;padding-right: 0.2em;padding-left: 0.2em;position: relative;}#sk-container-id-1 div.sk-item {position: relative;z-index: 1;}#sk-container-id-1 div.sk-parallel {display: flex;align-items: stretch;justify-content: center;background-color: white;position: relative;}#sk-container-id-1 div.sk-item::before, #sk-container-id-1 div.sk-parallel-item::before {content: \"\";position: absolute;border-left: 1px solid gray;box-sizing: border-box;top: 0;bottom: 0;left: 50%;z-index: -1;}#sk-container-id-1 div.sk-parallel-item {display: flex;flex-direction: column;z-index: 1;position: relative;background-color: white;}#sk-container-id-1 div.sk-parallel-item:first-child::after {align-self: flex-end;width: 50%;}#sk-container-id-1 div.sk-parallel-item:last-child::after {align-self: flex-start;width: 50%;}#sk-container-id-1 div.sk-parallel-item:only-child::after {width: 0;}#sk-container-id-1 div.sk-dashed-wrapped {border: 1px dashed gray;margin: 0 0.4em 0.5em 0.4em;box-sizing: border-box;padding-bottom: 0.4em;background-color: white;}#sk-container-id-1 div.sk-label label {font-family: monospace;font-weight: bold;display: inline-block;line-height: 1.2em;}#sk-container-id-1 div.sk-label-container {text-align: center;}#sk-container-id-1 div.sk-container {/* jupyter's `normalize.less` sets `[hidden] { display: none; }` but bootstrap.min.css set `[hidden] { display: none !important; }` so we also need the `!important` here to be able to override the default hidden behavior on the sphinx rendered scikit-learn.org. See: https://github.com/scikit-learn/scikit-learn/issues/21755 */display: inline-block !important;position: relative;}#sk-container-id-1 div.sk-text-repr-fallback {display: none;}</style><div id=\"sk-container-id-1\" class=\"sk-top-container\"><div class=\"sk-text-repr-fallback\"><pre>ColumnTransformer(transformers=[(&#x27;cat_enc&#x27;, CatBoostEncoder(return_df=False),\n",
       "                                 [&#x27;feature_13&#x27;, &#x27;feature_14&#x27;, &#x27;feature_17&#x27;,\n",
       "                                  &#x27;feature_20&#x27;, &#x27;feature_5&#x27;, &#x27;feature_6&#x27;,\n",
       "                                  &#x27;feature_7&#x27;]),\n",
       "                                (&#x27;ohe&#x27;,\n",
       "                                 OneHotEncoder(dtype=&lt;class &#x27;numpy.uint8&#x27;&gt;,\n",
       "                                               handle_unknown=&#x27;infrequent_if_exist&#x27;),\n",
       "                                 Index([&#x27;feature_13&#x27;, &#x27;feature_14&#x27;, &#x27;feature_16&#x27;, &#x27;feature_17&#x27;, &#x27;feature_18&#x27;,\n",
       "       &#x27;feature_20&#x27;, &#x27;feature_5&#x27;, &#x27;feature_6&#x27;, &#x27;feature_7&#x27;, &#x27;feature_9&#x27;],\n",
       "      dtype=&#x27;object&#x27;)),\n",
       "                                (&#x27;robust_scaler&#x27;, RobustScaler(),\n",
       "                                 [&#x27;feature_2&#x27;, &#x27;feature_3&#x27;, &#x27;feature_4&#x27;,\n",
       "                                  &#x27;feature_10&#x27;, &#x27;feature_11&#x27;, &#x27;feature_12&#x27;,\n",
       "                                  &#x27;feature_15&#x27;, &#x27;feature_19&#x27;, &#x27;feature_23&#x27;])])</pre><b>In a Jupyter environment, please rerun this cell to show the HTML representation or trust the notebook. <br />On GitHub, the HTML representation is unable to render, please try loading this page with nbviewer.org.</b></div><div class=\"sk-container\" hidden><div class=\"sk-item sk-dashed-wrapped\"><div class=\"sk-label-container\"><div class=\"sk-label sk-toggleable\"><input class=\"sk-toggleable__control sk-hidden--visually\" id=\"sk-estimator-id-1\" type=\"checkbox\" ><label for=\"sk-estimator-id-1\" class=\"sk-toggleable__label sk-toggleable__label-arrow\">ColumnTransformer</label><div class=\"sk-toggleable__content\"><pre>ColumnTransformer(transformers=[(&#x27;cat_enc&#x27;, CatBoostEncoder(return_df=False),\n",
       "                                 [&#x27;feature_13&#x27;, &#x27;feature_14&#x27;, &#x27;feature_17&#x27;,\n",
       "                                  &#x27;feature_20&#x27;, &#x27;feature_5&#x27;, &#x27;feature_6&#x27;,\n",
       "                                  &#x27;feature_7&#x27;]),\n",
       "                                (&#x27;ohe&#x27;,\n",
       "                                 OneHotEncoder(dtype=&lt;class &#x27;numpy.uint8&#x27;&gt;,\n",
       "                                               handle_unknown=&#x27;infrequent_if_exist&#x27;),\n",
       "                                 Index([&#x27;feature_13&#x27;, &#x27;feature_14&#x27;, &#x27;feature_16&#x27;, &#x27;feature_17&#x27;, &#x27;feature_18&#x27;,\n",
       "       &#x27;feature_20&#x27;, &#x27;feature_5&#x27;, &#x27;feature_6&#x27;, &#x27;feature_7&#x27;, &#x27;feature_9&#x27;],\n",
       "      dtype=&#x27;object&#x27;)),\n",
       "                                (&#x27;robust_scaler&#x27;, RobustScaler(),\n",
       "                                 [&#x27;feature_2&#x27;, &#x27;feature_3&#x27;, &#x27;feature_4&#x27;,\n",
       "                                  &#x27;feature_10&#x27;, &#x27;feature_11&#x27;, &#x27;feature_12&#x27;,\n",
       "                                  &#x27;feature_15&#x27;, &#x27;feature_19&#x27;, &#x27;feature_23&#x27;])])</pre></div></div></div><div class=\"sk-parallel\"><div class=\"sk-parallel-item\"><div class=\"sk-item\"><div class=\"sk-label-container\"><div class=\"sk-label sk-toggleable\"><input class=\"sk-toggleable__control sk-hidden--visually\" id=\"sk-estimator-id-2\" type=\"checkbox\" ><label for=\"sk-estimator-id-2\" class=\"sk-toggleable__label sk-toggleable__label-arrow\">cat_enc</label><div class=\"sk-toggleable__content\"><pre>[&#x27;feature_13&#x27;, &#x27;feature_14&#x27;, &#x27;feature_17&#x27;, &#x27;feature_20&#x27;, &#x27;feature_5&#x27;, &#x27;feature_6&#x27;, &#x27;feature_7&#x27;]</pre></div></div></div><div class=\"sk-serial\"><div class=\"sk-item\"><div class=\"sk-estimator sk-toggleable\"><input class=\"sk-toggleable__control sk-hidden--visually\" id=\"sk-estimator-id-3\" type=\"checkbox\" ><label for=\"sk-estimator-id-3\" class=\"sk-toggleable__label sk-toggleable__label-arrow\">CatBoostEncoder</label><div class=\"sk-toggleable__content\"><pre>CatBoostEncoder(return_df=False)</pre></div></div></div></div></div></div><div class=\"sk-parallel-item\"><div class=\"sk-item\"><div class=\"sk-label-container\"><div class=\"sk-label sk-toggleable\"><input class=\"sk-toggleable__control sk-hidden--visually\" id=\"sk-estimator-id-4\" type=\"checkbox\" ><label for=\"sk-estimator-id-4\" class=\"sk-toggleable__label sk-toggleable__label-arrow\">ohe</label><div class=\"sk-toggleable__content\"><pre>Index([&#x27;feature_13&#x27;, &#x27;feature_14&#x27;, &#x27;feature_16&#x27;, &#x27;feature_17&#x27;, &#x27;feature_18&#x27;,\n",
       "       &#x27;feature_20&#x27;, &#x27;feature_5&#x27;, &#x27;feature_6&#x27;, &#x27;feature_7&#x27;, &#x27;feature_9&#x27;],\n",
       "      dtype=&#x27;object&#x27;)</pre></div></div></div><div class=\"sk-serial\"><div class=\"sk-item\"><div class=\"sk-estimator sk-toggleable\"><input class=\"sk-toggleable__control sk-hidden--visually\" id=\"sk-estimator-id-5\" type=\"checkbox\" ><label for=\"sk-estimator-id-5\" class=\"sk-toggleable__label sk-toggleable__label-arrow\">OneHotEncoder</label><div class=\"sk-toggleable__content\"><pre>OneHotEncoder(dtype=&lt;class &#x27;numpy.uint8&#x27;&gt;, handle_unknown=&#x27;infrequent_if_exist&#x27;)</pre></div></div></div></div></div></div><div class=\"sk-parallel-item\"><div class=\"sk-item\"><div class=\"sk-label-container\"><div class=\"sk-label sk-toggleable\"><input class=\"sk-toggleable__control sk-hidden--visually\" id=\"sk-estimator-id-6\" type=\"checkbox\" ><label for=\"sk-estimator-id-6\" class=\"sk-toggleable__label sk-toggleable__label-arrow\">robust_scaler</label><div class=\"sk-toggleable__content\"><pre>[&#x27;feature_2&#x27;, &#x27;feature_3&#x27;, &#x27;feature_4&#x27;, &#x27;feature_10&#x27;, &#x27;feature_11&#x27;, &#x27;feature_12&#x27;, &#x27;feature_15&#x27;, &#x27;feature_19&#x27;, &#x27;feature_23&#x27;]</pre></div></div></div><div class=\"sk-serial\"><div class=\"sk-item\"><div class=\"sk-estimator sk-toggleable\"><input class=\"sk-toggleable__control sk-hidden--visually\" id=\"sk-estimator-id-7\" type=\"checkbox\" ><label for=\"sk-estimator-id-7\" class=\"sk-toggleable__label sk-toggleable__label-arrow\">RobustScaler</label><div class=\"sk-toggleable__content\"><pre>RobustScaler()</pre></div></div></div></div></div></div></div></div></div></div>"
      ],
      "text/plain": [
       "ColumnTransformer(transformers=[('cat_enc', CatBoostEncoder(return_df=False),\n",
       "                                 ['feature_13', 'feature_14', 'feature_17',\n",
       "                                  'feature_20', 'feature_5', 'feature_6',\n",
       "                                  'feature_7']),\n",
       "                                ('ohe',\n",
       "                                 OneHotEncoder(dtype=<class 'numpy.uint8'>,\n",
       "                                               handle_unknown='infrequent_if_exist'),\n",
       "                                 Index(['feature_13', 'feature_14', 'feature_16', 'feature_17', 'feature_18',\n",
       "       'feature_20', 'feature_5', 'feature_6', 'feature_7', 'feature_9'],\n",
       "      dtype='object')),\n",
       "                                ('robust_scaler', RobustScaler(),\n",
       "                                 ['feature_2', 'feature_3', 'feature_4',\n",
       "                                  'feature_10', 'feature_11', 'feature_12',\n",
       "                                  'feature_15', 'feature_19', 'feature_23'])])"
      ]
     },
     "execution_count": 6,
     "metadata": {},
     "output_type": "execute_result"
    }
   ],
   "source": [
    "cbe = CatBoostEncoder(return_df=False)\n",
    "ohe = OneHotEncoder(sparse=True,dtype=np.uint8,handle_unknown='infrequent_if_exist')\n",
    "scaler = RobustScaler()\n",
    "column_transformer = ColumnTransformer(transformers=[('cat_enc',cbe,target_encoding_cols),('ohe',ohe,cat_features),\n",
    "                                                     ('robust_scaler',scaler,numerical_features)]\n",
    "                                       ,remainder='drop')\n",
    "column_transformer"
   ]
  },
  {
   "cell_type": "markdown",
   "id": "437104e7",
   "metadata": {},
   "source": [
    "# Outlier Detection Pipeline\n",
    "### Not used due to lack of computing resources"
   ]
  },
  {
   "cell_type": "code",
   "execution_count": 10,
   "id": "b5df109b",
   "metadata": {},
   "outputs": [
    {
     "data": {
      "text/html": [
       "<style>#sk-container-id-5 {color: black;background-color: white;}#sk-container-id-5 pre{padding: 0;}#sk-container-id-5 div.sk-toggleable {background-color: white;}#sk-container-id-5 label.sk-toggleable__label {cursor: pointer;display: block;width: 100%;margin-bottom: 0;padding: 0.3em;box-sizing: border-box;text-align: center;}#sk-container-id-5 label.sk-toggleable__label-arrow:before {content: \"▸\";float: left;margin-right: 0.25em;color: #696969;}#sk-container-id-5 label.sk-toggleable__label-arrow:hover:before {color: black;}#sk-container-id-5 div.sk-estimator:hover label.sk-toggleable__label-arrow:before {color: black;}#sk-container-id-5 div.sk-toggleable__content {max-height: 0;max-width: 0;overflow: hidden;text-align: left;background-color: #f0f8ff;}#sk-container-id-5 div.sk-toggleable__content pre {margin: 0.2em;color: black;border-radius: 0.25em;background-color: #f0f8ff;}#sk-container-id-5 input.sk-toggleable__control:checked~div.sk-toggleable__content {max-height: 200px;max-width: 100%;overflow: auto;}#sk-container-id-5 input.sk-toggleable__control:checked~label.sk-toggleable__label-arrow:before {content: \"▾\";}#sk-container-id-5 div.sk-estimator input.sk-toggleable__control:checked~label.sk-toggleable__label {background-color: #d4ebff;}#sk-container-id-5 div.sk-label input.sk-toggleable__control:checked~label.sk-toggleable__label {background-color: #d4ebff;}#sk-container-id-5 input.sk-hidden--visually {border: 0;clip: rect(1px 1px 1px 1px);clip: rect(1px, 1px, 1px, 1px);height: 1px;margin: -1px;overflow: hidden;padding: 0;position: absolute;width: 1px;}#sk-container-id-5 div.sk-estimator {font-family: monospace;background-color: #f0f8ff;border: 1px dotted black;border-radius: 0.25em;box-sizing: border-box;margin-bottom: 0.5em;}#sk-container-id-5 div.sk-estimator:hover {background-color: #d4ebff;}#sk-container-id-5 div.sk-parallel-item::after {content: \"\";width: 100%;border-bottom: 1px solid gray;flex-grow: 1;}#sk-container-id-5 div.sk-label:hover label.sk-toggleable__label {background-color: #d4ebff;}#sk-container-id-5 div.sk-serial::before {content: \"\";position: absolute;border-left: 1px solid gray;box-sizing: border-box;top: 0;bottom: 0;left: 50%;z-index: 0;}#sk-container-id-5 div.sk-serial {display: flex;flex-direction: column;align-items: center;background-color: white;padding-right: 0.2em;padding-left: 0.2em;position: relative;}#sk-container-id-5 div.sk-item {position: relative;z-index: 1;}#sk-container-id-5 div.sk-parallel {display: flex;align-items: stretch;justify-content: center;background-color: white;position: relative;}#sk-container-id-5 div.sk-item::before, #sk-container-id-5 div.sk-parallel-item::before {content: \"\";position: absolute;border-left: 1px solid gray;box-sizing: border-box;top: 0;bottom: 0;left: 50%;z-index: -1;}#sk-container-id-5 div.sk-parallel-item {display: flex;flex-direction: column;z-index: 1;position: relative;background-color: white;}#sk-container-id-5 div.sk-parallel-item:first-child::after {align-self: flex-end;width: 50%;}#sk-container-id-5 div.sk-parallel-item:last-child::after {align-self: flex-start;width: 50%;}#sk-container-id-5 div.sk-parallel-item:only-child::after {width: 0;}#sk-container-id-5 div.sk-dashed-wrapped {border: 1px dashed gray;margin: 0 0.4em 0.5em 0.4em;box-sizing: border-box;padding-bottom: 0.4em;background-color: white;}#sk-container-id-5 div.sk-label label {font-family: monospace;font-weight: bold;display: inline-block;line-height: 1.2em;}#sk-container-id-5 div.sk-label-container {text-align: center;}#sk-container-id-5 div.sk-container {/* jupyter's `normalize.less` sets `[hidden] { display: none; }` but bootstrap.min.css set `[hidden] { display: none !important; }` so we also need the `!important` here to be able to override the default hidden behavior on the sphinx rendered scikit-learn.org. See: https://github.com/scikit-learn/scikit-learn/issues/21755 */display: inline-block !important;position: relative;}#sk-container-id-5 div.sk-text-repr-fallback {display: none;}</style><div id=\"sk-container-id-5\" class=\"sk-top-container\"><div class=\"sk-text-repr-fallback\"><pre>Pipeline(steps=[(&#x27;transformer&#x27;,\n",
       "                 ColumnTransformer(transformers=[(&#x27;cat_enc&#x27;,\n",
       "                                                  CatBoostEncoder(return_df=False),\n",
       "                                                  [&#x27;feature_13&#x27;, &#x27;feature_14&#x27;,\n",
       "                                                   &#x27;feature_17&#x27;, &#x27;feature_20&#x27;,\n",
       "                                                   &#x27;feature_5&#x27;, &#x27;feature_6&#x27;,\n",
       "                                                   &#x27;feature_7&#x27;]),\n",
       "                                                 (&#x27;ohe&#x27;,\n",
       "                                                  OneHotEncoder(dtype=&lt;class &#x27;numpy.uint8&#x27;&gt;,\n",
       "                                                                handle_unknown=&#x27;infrequent_if_exist&#x27;),\n",
       "                                                  Index([&#x27;feature_13&#x27;, &#x27;feature_14&#x27;, &#x27;feature_16&#x27;, &#x27;feature_17&#x27;, &#x27;feature_18&#x27;,\n",
       "       &#x27;feature_20&#x27;, &#x27;feature_5&#x27;, &#x27;feature_6&#x27;, &#x27;feature_7&#x27;, &#x27;feature_9&#x27;],\n",
       "      dtype=&#x27;object&#x27;)),\n",
       "                                                 (&#x27;robust_scaler&#x27;,\n",
       "                                                  RobustScaler(),\n",
       "                                                  [&#x27;feature_2&#x27;, &#x27;feature_3&#x27;,\n",
       "                                                   &#x27;feature_4&#x27;, &#x27;feature_10&#x27;,\n",
       "                                                   &#x27;feature_11&#x27;, &#x27;feature_12&#x27;,\n",
       "                                                   &#x27;feature_15&#x27;, &#x27;feature_19&#x27;,\n",
       "                                                   &#x27;feature_23&#x27;])])),\n",
       "                (&#x27;detector&#x27;, LocalOutlierFactor())])</pre><b>In a Jupyter environment, please rerun this cell to show the HTML representation or trust the notebook. <br />On GitHub, the HTML representation is unable to render, please try loading this page with nbviewer.org.</b></div><div class=\"sk-container\" hidden><div class=\"sk-item sk-dashed-wrapped\"><div class=\"sk-label-container\"><div class=\"sk-label sk-toggleable\"><input class=\"sk-toggleable__control sk-hidden--visually\" id=\"sk-estimator-id-35\" type=\"checkbox\" ><label for=\"sk-estimator-id-35\" class=\"sk-toggleable__label sk-toggleable__label-arrow\">Pipeline</label><div class=\"sk-toggleable__content\"><pre>Pipeline(steps=[(&#x27;transformer&#x27;,\n",
       "                 ColumnTransformer(transformers=[(&#x27;cat_enc&#x27;,\n",
       "                                                  CatBoostEncoder(return_df=False),\n",
       "                                                  [&#x27;feature_13&#x27;, &#x27;feature_14&#x27;,\n",
       "                                                   &#x27;feature_17&#x27;, &#x27;feature_20&#x27;,\n",
       "                                                   &#x27;feature_5&#x27;, &#x27;feature_6&#x27;,\n",
       "                                                   &#x27;feature_7&#x27;]),\n",
       "                                                 (&#x27;ohe&#x27;,\n",
       "                                                  OneHotEncoder(dtype=&lt;class &#x27;numpy.uint8&#x27;&gt;,\n",
       "                                                                handle_unknown=&#x27;infrequent_if_exist&#x27;),\n",
       "                                                  Index([&#x27;feature_13&#x27;, &#x27;feature_14&#x27;, &#x27;feature_16&#x27;, &#x27;feature_17&#x27;, &#x27;feature_18&#x27;,\n",
       "       &#x27;feature_20&#x27;, &#x27;feature_5&#x27;, &#x27;feature_6&#x27;, &#x27;feature_7&#x27;, &#x27;feature_9&#x27;],\n",
       "      dtype=&#x27;object&#x27;)),\n",
       "                                                 (&#x27;robust_scaler&#x27;,\n",
       "                                                  RobustScaler(),\n",
       "                                                  [&#x27;feature_2&#x27;, &#x27;feature_3&#x27;,\n",
       "                                                   &#x27;feature_4&#x27;, &#x27;feature_10&#x27;,\n",
       "                                                   &#x27;feature_11&#x27;, &#x27;feature_12&#x27;,\n",
       "                                                   &#x27;feature_15&#x27;, &#x27;feature_19&#x27;,\n",
       "                                                   &#x27;feature_23&#x27;])])),\n",
       "                (&#x27;detector&#x27;, LocalOutlierFactor())])</pre></div></div></div><div class=\"sk-serial\"><div class=\"sk-item sk-dashed-wrapped\"><div class=\"sk-label-container\"><div class=\"sk-label sk-toggleable\"><input class=\"sk-toggleable__control sk-hidden--visually\" id=\"sk-estimator-id-36\" type=\"checkbox\" ><label for=\"sk-estimator-id-36\" class=\"sk-toggleable__label sk-toggleable__label-arrow\">transformer: ColumnTransformer</label><div class=\"sk-toggleable__content\"><pre>ColumnTransformer(transformers=[(&#x27;cat_enc&#x27;, CatBoostEncoder(return_df=False),\n",
       "                                 [&#x27;feature_13&#x27;, &#x27;feature_14&#x27;, &#x27;feature_17&#x27;,\n",
       "                                  &#x27;feature_20&#x27;, &#x27;feature_5&#x27;, &#x27;feature_6&#x27;,\n",
       "                                  &#x27;feature_7&#x27;]),\n",
       "                                (&#x27;ohe&#x27;,\n",
       "                                 OneHotEncoder(dtype=&lt;class &#x27;numpy.uint8&#x27;&gt;,\n",
       "                                               handle_unknown=&#x27;infrequent_if_exist&#x27;),\n",
       "                                 Index([&#x27;feature_13&#x27;, &#x27;feature_14&#x27;, &#x27;feature_16&#x27;, &#x27;feature_17&#x27;, &#x27;feature_18&#x27;,\n",
       "       &#x27;feature_20&#x27;, &#x27;feature_5&#x27;, &#x27;feature_6&#x27;, &#x27;feature_7&#x27;, &#x27;feature_9&#x27;],\n",
       "      dtype=&#x27;object&#x27;)),\n",
       "                                (&#x27;robust_scaler&#x27;, RobustScaler(),\n",
       "                                 [&#x27;feature_2&#x27;, &#x27;feature_3&#x27;, &#x27;feature_4&#x27;,\n",
       "                                  &#x27;feature_10&#x27;, &#x27;feature_11&#x27;, &#x27;feature_12&#x27;,\n",
       "                                  &#x27;feature_15&#x27;, &#x27;feature_19&#x27;, &#x27;feature_23&#x27;])])</pre></div></div></div><div class=\"sk-parallel\"><div class=\"sk-parallel-item\"><div class=\"sk-item\"><div class=\"sk-label-container\"><div class=\"sk-label sk-toggleable\"><input class=\"sk-toggleable__control sk-hidden--visually\" id=\"sk-estimator-id-37\" type=\"checkbox\" ><label for=\"sk-estimator-id-37\" class=\"sk-toggleable__label sk-toggleable__label-arrow\">cat_enc</label><div class=\"sk-toggleable__content\"><pre>[&#x27;feature_13&#x27;, &#x27;feature_14&#x27;, &#x27;feature_17&#x27;, &#x27;feature_20&#x27;, &#x27;feature_5&#x27;, &#x27;feature_6&#x27;, &#x27;feature_7&#x27;]</pre></div></div></div><div class=\"sk-serial\"><div class=\"sk-item\"><div class=\"sk-estimator sk-toggleable\"><input class=\"sk-toggleable__control sk-hidden--visually\" id=\"sk-estimator-id-38\" type=\"checkbox\" ><label for=\"sk-estimator-id-38\" class=\"sk-toggleable__label sk-toggleable__label-arrow\">CatBoostEncoder</label><div class=\"sk-toggleable__content\"><pre>CatBoostEncoder(return_df=False)</pre></div></div></div></div></div></div><div class=\"sk-parallel-item\"><div class=\"sk-item\"><div class=\"sk-label-container\"><div class=\"sk-label sk-toggleable\"><input class=\"sk-toggleable__control sk-hidden--visually\" id=\"sk-estimator-id-39\" type=\"checkbox\" ><label for=\"sk-estimator-id-39\" class=\"sk-toggleable__label sk-toggleable__label-arrow\">ohe</label><div class=\"sk-toggleable__content\"><pre>Index([&#x27;feature_13&#x27;, &#x27;feature_14&#x27;, &#x27;feature_16&#x27;, &#x27;feature_17&#x27;, &#x27;feature_18&#x27;,\n",
       "       &#x27;feature_20&#x27;, &#x27;feature_5&#x27;, &#x27;feature_6&#x27;, &#x27;feature_7&#x27;, &#x27;feature_9&#x27;],\n",
       "      dtype=&#x27;object&#x27;)</pre></div></div></div><div class=\"sk-serial\"><div class=\"sk-item\"><div class=\"sk-estimator sk-toggleable\"><input class=\"sk-toggleable__control sk-hidden--visually\" id=\"sk-estimator-id-40\" type=\"checkbox\" ><label for=\"sk-estimator-id-40\" class=\"sk-toggleable__label sk-toggleable__label-arrow\">OneHotEncoder</label><div class=\"sk-toggleable__content\"><pre>OneHotEncoder(dtype=&lt;class &#x27;numpy.uint8&#x27;&gt;, handle_unknown=&#x27;infrequent_if_exist&#x27;)</pre></div></div></div></div></div></div><div class=\"sk-parallel-item\"><div class=\"sk-item\"><div class=\"sk-label-container\"><div class=\"sk-label sk-toggleable\"><input class=\"sk-toggleable__control sk-hidden--visually\" id=\"sk-estimator-id-41\" type=\"checkbox\" ><label for=\"sk-estimator-id-41\" class=\"sk-toggleable__label sk-toggleable__label-arrow\">robust_scaler</label><div class=\"sk-toggleable__content\"><pre>[&#x27;feature_2&#x27;, &#x27;feature_3&#x27;, &#x27;feature_4&#x27;, &#x27;feature_10&#x27;, &#x27;feature_11&#x27;, &#x27;feature_12&#x27;, &#x27;feature_15&#x27;, &#x27;feature_19&#x27;, &#x27;feature_23&#x27;]</pre></div></div></div><div class=\"sk-serial\"><div class=\"sk-item\"><div class=\"sk-estimator sk-toggleable\"><input class=\"sk-toggleable__control sk-hidden--visually\" id=\"sk-estimator-id-42\" type=\"checkbox\" ><label for=\"sk-estimator-id-42\" class=\"sk-toggleable__label sk-toggleable__label-arrow\">RobustScaler</label><div class=\"sk-toggleable__content\"><pre>RobustScaler()</pre></div></div></div></div></div></div></div></div><div class=\"sk-item\"><div class=\"sk-estimator sk-toggleable\"><input class=\"sk-toggleable__control sk-hidden--visually\" id=\"sk-estimator-id-43\" type=\"checkbox\" ><label for=\"sk-estimator-id-43\" class=\"sk-toggleable__label sk-toggleable__label-arrow\">LocalOutlierFactor</label><div class=\"sk-toggleable__content\"><pre>LocalOutlierFactor()</pre></div></div></div></div></div></div></div>"
      ],
      "text/plain": [
       "Pipeline(steps=[('transformer',\n",
       "                 ColumnTransformer(transformers=[('cat_enc',\n",
       "                                                  CatBoostEncoder(return_df=False),\n",
       "                                                  ['feature_13', 'feature_14',\n",
       "                                                   'feature_17', 'feature_20',\n",
       "                                                   'feature_5', 'feature_6',\n",
       "                                                   'feature_7']),\n",
       "                                                 ('ohe',\n",
       "                                                  OneHotEncoder(dtype=<class 'numpy.uint8'>,\n",
       "                                                                handle_unknown='infrequent_if_exist'),\n",
       "                                                  Index(['feature_13', 'feature_14', 'feature_16', 'feature_17', 'feature_18',\n",
       "       'feature_20', 'feature_5', 'feature_6', 'feature_7', 'feature_9'],\n",
       "      dtype='object')),\n",
       "                                                 ('robust_scaler',\n",
       "                                                  RobustScaler(),\n",
       "                                                  ['feature_2', 'feature_3',\n",
       "                                                   'feature_4', 'feature_10',\n",
       "                                                   'feature_11', 'feature_12',\n",
       "                                                   'feature_15', 'feature_19',\n",
       "                                                   'feature_23'])])),\n",
       "                ('detector', LocalOutlierFactor())])"
      ]
     },
     "execution_count": 10,
     "metadata": {},
     "output_type": "execute_result"
    }
   ],
   "source": [
    "outlier_detector = LocalOutlierFactor()\n",
    "outlier_detection_pipeline =  Pipeline(steps=[('transformer',column_transformer),('detector',outlier_detector)])\n",
    "outlier_detection_pipeline"
   ]
  },
  {
   "cell_type": "markdown",
   "id": "be3b41db",
   "metadata": {},
   "source": [
    "# Random Forest Pipeline"
   ]
  },
  {
   "cell_type": "code",
   "execution_count": 7,
   "id": "58922a79",
   "metadata": {},
   "outputs": [
    {
     "data": {
      "text/html": [
       "<style>#sk-container-id-2 {color: black;background-color: white;}#sk-container-id-2 pre{padding: 0;}#sk-container-id-2 div.sk-toggleable {background-color: white;}#sk-container-id-2 label.sk-toggleable__label {cursor: pointer;display: block;width: 100%;margin-bottom: 0;padding: 0.3em;box-sizing: border-box;text-align: center;}#sk-container-id-2 label.sk-toggleable__label-arrow:before {content: \"▸\";float: left;margin-right: 0.25em;color: #696969;}#sk-container-id-2 label.sk-toggleable__label-arrow:hover:before {color: black;}#sk-container-id-2 div.sk-estimator:hover label.sk-toggleable__label-arrow:before {color: black;}#sk-container-id-2 div.sk-toggleable__content {max-height: 0;max-width: 0;overflow: hidden;text-align: left;background-color: #f0f8ff;}#sk-container-id-2 div.sk-toggleable__content pre {margin: 0.2em;color: black;border-radius: 0.25em;background-color: #f0f8ff;}#sk-container-id-2 input.sk-toggleable__control:checked~div.sk-toggleable__content {max-height: 200px;max-width: 100%;overflow: auto;}#sk-container-id-2 input.sk-toggleable__control:checked~label.sk-toggleable__label-arrow:before {content: \"▾\";}#sk-container-id-2 div.sk-estimator input.sk-toggleable__control:checked~label.sk-toggleable__label {background-color: #d4ebff;}#sk-container-id-2 div.sk-label input.sk-toggleable__control:checked~label.sk-toggleable__label {background-color: #d4ebff;}#sk-container-id-2 input.sk-hidden--visually {border: 0;clip: rect(1px 1px 1px 1px);clip: rect(1px, 1px, 1px, 1px);height: 1px;margin: -1px;overflow: hidden;padding: 0;position: absolute;width: 1px;}#sk-container-id-2 div.sk-estimator {font-family: monospace;background-color: #f0f8ff;border: 1px dotted black;border-radius: 0.25em;box-sizing: border-box;margin-bottom: 0.5em;}#sk-container-id-2 div.sk-estimator:hover {background-color: #d4ebff;}#sk-container-id-2 div.sk-parallel-item::after {content: \"\";width: 100%;border-bottom: 1px solid gray;flex-grow: 1;}#sk-container-id-2 div.sk-label:hover label.sk-toggleable__label {background-color: #d4ebff;}#sk-container-id-2 div.sk-serial::before {content: \"\";position: absolute;border-left: 1px solid gray;box-sizing: border-box;top: 0;bottom: 0;left: 50%;z-index: 0;}#sk-container-id-2 div.sk-serial {display: flex;flex-direction: column;align-items: center;background-color: white;padding-right: 0.2em;padding-left: 0.2em;position: relative;}#sk-container-id-2 div.sk-item {position: relative;z-index: 1;}#sk-container-id-2 div.sk-parallel {display: flex;align-items: stretch;justify-content: center;background-color: white;position: relative;}#sk-container-id-2 div.sk-item::before, #sk-container-id-2 div.sk-parallel-item::before {content: \"\";position: absolute;border-left: 1px solid gray;box-sizing: border-box;top: 0;bottom: 0;left: 50%;z-index: -1;}#sk-container-id-2 div.sk-parallel-item {display: flex;flex-direction: column;z-index: 1;position: relative;background-color: white;}#sk-container-id-2 div.sk-parallel-item:first-child::after {align-self: flex-end;width: 50%;}#sk-container-id-2 div.sk-parallel-item:last-child::after {align-self: flex-start;width: 50%;}#sk-container-id-2 div.sk-parallel-item:only-child::after {width: 0;}#sk-container-id-2 div.sk-dashed-wrapped {border: 1px dashed gray;margin: 0 0.4em 0.5em 0.4em;box-sizing: border-box;padding-bottom: 0.4em;background-color: white;}#sk-container-id-2 div.sk-label label {font-family: monospace;font-weight: bold;display: inline-block;line-height: 1.2em;}#sk-container-id-2 div.sk-label-container {text-align: center;}#sk-container-id-2 div.sk-container {/* jupyter's `normalize.less` sets `[hidden] { display: none; }` but bootstrap.min.css set `[hidden] { display: none !important; }` so we also need the `!important` here to be able to override the default hidden behavior on the sphinx rendered scikit-learn.org. See: https://github.com/scikit-learn/scikit-learn/issues/21755 */display: inline-block !important;position: relative;}#sk-container-id-2 div.sk-text-repr-fallback {display: none;}</style><div id=\"sk-container-id-2\" class=\"sk-top-container\"><div class=\"sk-text-repr-fallback\"><pre>Pipeline(steps=[(&#x27;transformer&#x27;,\n",
       "                 ColumnTransformer(transformers=[(&#x27;cat_enc&#x27;,\n",
       "                                                  CatBoostEncoder(return_df=False),\n",
       "                                                  [&#x27;feature_13&#x27;, &#x27;feature_14&#x27;,\n",
       "                                                   &#x27;feature_17&#x27;, &#x27;feature_20&#x27;,\n",
       "                                                   &#x27;feature_5&#x27;, &#x27;feature_6&#x27;,\n",
       "                                                   &#x27;feature_7&#x27;]),\n",
       "                                                 (&#x27;ohe&#x27;,\n",
       "                                                  OneHotEncoder(dtype=&lt;class &#x27;numpy.uint8&#x27;&gt;,\n",
       "                                                                handle_unknown=&#x27;infrequent_if_exist&#x27;),\n",
       "                                                  Index([&#x27;feature_13&#x27;, &#x27;feature_14&#x27;, &#x27;feature_16&#x27;, &#x27;feature_17&#x27;, &#x27;feature_18&#x27;,\n",
       "       &#x27;feature_20&#x27;, &#x27;feature_5&#x27;, &#x27;feature_6&#x27;, &#x27;feature_7&#x27;, &#x27;feature_9&#x27;],\n",
       "      dtype=&#x27;object&#x27;)),\n",
       "                                                 (&#x27;robust_scaler&#x27;,\n",
       "                                                  RobustScaler(),\n",
       "                                                  [&#x27;feature_2&#x27;, &#x27;feature_3&#x27;,\n",
       "                                                   &#x27;feature_4&#x27;, &#x27;feature_10&#x27;,\n",
       "                                                   &#x27;feature_11&#x27;, &#x27;feature_12&#x27;,\n",
       "                                                   &#x27;feature_15&#x27;, &#x27;feature_19&#x27;,\n",
       "                                                   &#x27;feature_23&#x27;])])),\n",
       "                (&#x27;model&#x27;,\n",
       "                 LGBMClassifier(bagging_fraction=0.7, bagging_freq=1,\n",
       "                                boosting_type=&#x27;rf&#x27;, class_weight={0: 1, 1: 5},\n",
       "                                n_jobs=7))])</pre><b>In a Jupyter environment, please rerun this cell to show the HTML representation or trust the notebook. <br />On GitHub, the HTML representation is unable to render, please try loading this page with nbviewer.org.</b></div><div class=\"sk-container\" hidden><div class=\"sk-item sk-dashed-wrapped\"><div class=\"sk-label-container\"><div class=\"sk-label sk-toggleable\"><input class=\"sk-toggleable__control sk-hidden--visually\" id=\"sk-estimator-id-8\" type=\"checkbox\" ><label for=\"sk-estimator-id-8\" class=\"sk-toggleable__label sk-toggleable__label-arrow\">Pipeline</label><div class=\"sk-toggleable__content\"><pre>Pipeline(steps=[(&#x27;transformer&#x27;,\n",
       "                 ColumnTransformer(transformers=[(&#x27;cat_enc&#x27;,\n",
       "                                                  CatBoostEncoder(return_df=False),\n",
       "                                                  [&#x27;feature_13&#x27;, &#x27;feature_14&#x27;,\n",
       "                                                   &#x27;feature_17&#x27;, &#x27;feature_20&#x27;,\n",
       "                                                   &#x27;feature_5&#x27;, &#x27;feature_6&#x27;,\n",
       "                                                   &#x27;feature_7&#x27;]),\n",
       "                                                 (&#x27;ohe&#x27;,\n",
       "                                                  OneHotEncoder(dtype=&lt;class &#x27;numpy.uint8&#x27;&gt;,\n",
       "                                                                handle_unknown=&#x27;infrequent_if_exist&#x27;),\n",
       "                                                  Index([&#x27;feature_13&#x27;, &#x27;feature_14&#x27;, &#x27;feature_16&#x27;, &#x27;feature_17&#x27;, &#x27;feature_18&#x27;,\n",
       "       &#x27;feature_20&#x27;, &#x27;feature_5&#x27;, &#x27;feature_6&#x27;, &#x27;feature_7&#x27;, &#x27;feature_9&#x27;],\n",
       "      dtype=&#x27;object&#x27;)),\n",
       "                                                 (&#x27;robust_scaler&#x27;,\n",
       "                                                  RobustScaler(),\n",
       "                                                  [&#x27;feature_2&#x27;, &#x27;feature_3&#x27;,\n",
       "                                                   &#x27;feature_4&#x27;, &#x27;feature_10&#x27;,\n",
       "                                                   &#x27;feature_11&#x27;, &#x27;feature_12&#x27;,\n",
       "                                                   &#x27;feature_15&#x27;, &#x27;feature_19&#x27;,\n",
       "                                                   &#x27;feature_23&#x27;])])),\n",
       "                (&#x27;model&#x27;,\n",
       "                 LGBMClassifier(bagging_fraction=0.7, bagging_freq=1,\n",
       "                                boosting_type=&#x27;rf&#x27;, class_weight={0: 1, 1: 5},\n",
       "                                n_jobs=7))])</pre></div></div></div><div class=\"sk-serial\"><div class=\"sk-item sk-dashed-wrapped\"><div class=\"sk-label-container\"><div class=\"sk-label sk-toggleable\"><input class=\"sk-toggleable__control sk-hidden--visually\" id=\"sk-estimator-id-9\" type=\"checkbox\" ><label for=\"sk-estimator-id-9\" class=\"sk-toggleable__label sk-toggleable__label-arrow\">transformer: ColumnTransformer</label><div class=\"sk-toggleable__content\"><pre>ColumnTransformer(transformers=[(&#x27;cat_enc&#x27;, CatBoostEncoder(return_df=False),\n",
       "                                 [&#x27;feature_13&#x27;, &#x27;feature_14&#x27;, &#x27;feature_17&#x27;,\n",
       "                                  &#x27;feature_20&#x27;, &#x27;feature_5&#x27;, &#x27;feature_6&#x27;,\n",
       "                                  &#x27;feature_7&#x27;]),\n",
       "                                (&#x27;ohe&#x27;,\n",
       "                                 OneHotEncoder(dtype=&lt;class &#x27;numpy.uint8&#x27;&gt;,\n",
       "                                               handle_unknown=&#x27;infrequent_if_exist&#x27;),\n",
       "                                 Index([&#x27;feature_13&#x27;, &#x27;feature_14&#x27;, &#x27;feature_16&#x27;, &#x27;feature_17&#x27;, &#x27;feature_18&#x27;,\n",
       "       &#x27;feature_20&#x27;, &#x27;feature_5&#x27;, &#x27;feature_6&#x27;, &#x27;feature_7&#x27;, &#x27;feature_9&#x27;],\n",
       "      dtype=&#x27;object&#x27;)),\n",
       "                                (&#x27;robust_scaler&#x27;, RobustScaler(),\n",
       "                                 [&#x27;feature_2&#x27;, &#x27;feature_3&#x27;, &#x27;feature_4&#x27;,\n",
       "                                  &#x27;feature_10&#x27;, &#x27;feature_11&#x27;, &#x27;feature_12&#x27;,\n",
       "                                  &#x27;feature_15&#x27;, &#x27;feature_19&#x27;, &#x27;feature_23&#x27;])])</pre></div></div></div><div class=\"sk-parallel\"><div class=\"sk-parallel-item\"><div class=\"sk-item\"><div class=\"sk-label-container\"><div class=\"sk-label sk-toggleable\"><input class=\"sk-toggleable__control sk-hidden--visually\" id=\"sk-estimator-id-10\" type=\"checkbox\" ><label for=\"sk-estimator-id-10\" class=\"sk-toggleable__label sk-toggleable__label-arrow\">cat_enc</label><div class=\"sk-toggleable__content\"><pre>[&#x27;feature_13&#x27;, &#x27;feature_14&#x27;, &#x27;feature_17&#x27;, &#x27;feature_20&#x27;, &#x27;feature_5&#x27;, &#x27;feature_6&#x27;, &#x27;feature_7&#x27;]</pre></div></div></div><div class=\"sk-serial\"><div class=\"sk-item\"><div class=\"sk-estimator sk-toggleable\"><input class=\"sk-toggleable__control sk-hidden--visually\" id=\"sk-estimator-id-11\" type=\"checkbox\" ><label for=\"sk-estimator-id-11\" class=\"sk-toggleable__label sk-toggleable__label-arrow\">CatBoostEncoder</label><div class=\"sk-toggleable__content\"><pre>CatBoostEncoder(return_df=False)</pre></div></div></div></div></div></div><div class=\"sk-parallel-item\"><div class=\"sk-item\"><div class=\"sk-label-container\"><div class=\"sk-label sk-toggleable\"><input class=\"sk-toggleable__control sk-hidden--visually\" id=\"sk-estimator-id-12\" type=\"checkbox\" ><label for=\"sk-estimator-id-12\" class=\"sk-toggleable__label sk-toggleable__label-arrow\">ohe</label><div class=\"sk-toggleable__content\"><pre>Index([&#x27;feature_13&#x27;, &#x27;feature_14&#x27;, &#x27;feature_16&#x27;, &#x27;feature_17&#x27;, &#x27;feature_18&#x27;,\n",
       "       &#x27;feature_20&#x27;, &#x27;feature_5&#x27;, &#x27;feature_6&#x27;, &#x27;feature_7&#x27;, &#x27;feature_9&#x27;],\n",
       "      dtype=&#x27;object&#x27;)</pre></div></div></div><div class=\"sk-serial\"><div class=\"sk-item\"><div class=\"sk-estimator sk-toggleable\"><input class=\"sk-toggleable__control sk-hidden--visually\" id=\"sk-estimator-id-13\" type=\"checkbox\" ><label for=\"sk-estimator-id-13\" class=\"sk-toggleable__label sk-toggleable__label-arrow\">OneHotEncoder</label><div class=\"sk-toggleable__content\"><pre>OneHotEncoder(dtype=&lt;class &#x27;numpy.uint8&#x27;&gt;, handle_unknown=&#x27;infrequent_if_exist&#x27;)</pre></div></div></div></div></div></div><div class=\"sk-parallel-item\"><div class=\"sk-item\"><div class=\"sk-label-container\"><div class=\"sk-label sk-toggleable\"><input class=\"sk-toggleable__control sk-hidden--visually\" id=\"sk-estimator-id-14\" type=\"checkbox\" ><label for=\"sk-estimator-id-14\" class=\"sk-toggleable__label sk-toggleable__label-arrow\">robust_scaler</label><div class=\"sk-toggleable__content\"><pre>[&#x27;feature_2&#x27;, &#x27;feature_3&#x27;, &#x27;feature_4&#x27;, &#x27;feature_10&#x27;, &#x27;feature_11&#x27;, &#x27;feature_12&#x27;, &#x27;feature_15&#x27;, &#x27;feature_19&#x27;, &#x27;feature_23&#x27;]</pre></div></div></div><div class=\"sk-serial\"><div class=\"sk-item\"><div class=\"sk-estimator sk-toggleable\"><input class=\"sk-toggleable__control sk-hidden--visually\" id=\"sk-estimator-id-15\" type=\"checkbox\" ><label for=\"sk-estimator-id-15\" class=\"sk-toggleable__label sk-toggleable__label-arrow\">RobustScaler</label><div class=\"sk-toggleable__content\"><pre>RobustScaler()</pre></div></div></div></div></div></div></div></div><div class=\"sk-item\"><div class=\"sk-estimator sk-toggleable\"><input class=\"sk-toggleable__control sk-hidden--visually\" id=\"sk-estimator-id-16\" type=\"checkbox\" ><label for=\"sk-estimator-id-16\" class=\"sk-toggleable__label sk-toggleable__label-arrow\">LGBMClassifier</label><div class=\"sk-toggleable__content\"><pre>LGBMClassifier(bagging_fraction=0.7, bagging_freq=1, boosting_type=&#x27;rf&#x27;,\n",
       "               class_weight={0: 1, 1: 5}, n_jobs=7)</pre></div></div></div></div></div></div></div>"
      ],
      "text/plain": [
       "Pipeline(steps=[('transformer',\n",
       "                 ColumnTransformer(transformers=[('cat_enc',\n",
       "                                                  CatBoostEncoder(return_df=False),\n",
       "                                                  ['feature_13', 'feature_14',\n",
       "                                                   'feature_17', 'feature_20',\n",
       "                                                   'feature_5', 'feature_6',\n",
       "                                                   'feature_7']),\n",
       "                                                 ('ohe',\n",
       "                                                  OneHotEncoder(dtype=<class 'numpy.uint8'>,\n",
       "                                                                handle_unknown='infrequent_if_exist'),\n",
       "                                                  Index(['feature_13', 'feature_14', 'feature_16', 'feature_17', 'feature_18',\n",
       "       'feature_20', 'feature_5', 'feature_6', 'feature_7', 'feature_9'],\n",
       "      dtype='object')),\n",
       "                                                 ('robust_scaler',\n",
       "                                                  RobustScaler(),\n",
       "                                                  ['feature_2', 'feature_3',\n",
       "                                                   'feature_4', 'feature_10',\n",
       "                                                   'feature_11', 'feature_12',\n",
       "                                                   'feature_15', 'feature_19',\n",
       "                                                   'feature_23'])])),\n",
       "                ('model',\n",
       "                 LGBMClassifier(bagging_fraction=0.7, bagging_freq=1,\n",
       "                                boosting_type='rf', class_weight={0: 1, 1: 5},\n",
       "                                n_jobs=7))])"
      ]
     },
     "execution_count": 7,
     "metadata": {},
     "output_type": "execute_result"
    }
   ],
   "source": [
    "rf_model = LGBMClassifier(class_weight={0:1,1:5},n_jobs=7,n_estimators=100,boosting_type='rf',\n",
    "                          bagging_freq=1,bagging_fraction=0.7)\n",
    "rf_pipeline = Pipeline(steps=[('transformer',column_transformer),('model',rf_model)])\n",
    "rf_pipeline"
   ]
  },
  {
   "cell_type": "code",
   "execution_count": 11,
   "id": "082a8f0a",
   "metadata": {},
   "outputs": [
    {
     "data": {
      "text/plain": [
       "array([0.38046161, 0.3866546 , 0.39961924])"
      ]
     },
     "execution_count": 11,
     "metadata": {},
     "output_type": "execute_result"
    }
   ],
   "source": [
    "cross_val_score(rf_pipeline,X=X,y=y,cv=3,scoring='f1',n_jobs=7)"
   ]
  },
  {
   "cell_type": "code",
   "execution_count": 8,
   "id": "226d6ed6",
   "metadata": {},
   "outputs": [
    {
     "data": {
      "text/html": [
       "<style>#sk-container-id-3 {color: black;background-color: white;}#sk-container-id-3 pre{padding: 0;}#sk-container-id-3 div.sk-toggleable {background-color: white;}#sk-container-id-3 label.sk-toggleable__label {cursor: pointer;display: block;width: 100%;margin-bottom: 0;padding: 0.3em;box-sizing: border-box;text-align: center;}#sk-container-id-3 label.sk-toggleable__label-arrow:before {content: \"▸\";float: left;margin-right: 0.25em;color: #696969;}#sk-container-id-3 label.sk-toggleable__label-arrow:hover:before {color: black;}#sk-container-id-3 div.sk-estimator:hover label.sk-toggleable__label-arrow:before {color: black;}#sk-container-id-3 div.sk-toggleable__content {max-height: 0;max-width: 0;overflow: hidden;text-align: left;background-color: #f0f8ff;}#sk-container-id-3 div.sk-toggleable__content pre {margin: 0.2em;color: black;border-radius: 0.25em;background-color: #f0f8ff;}#sk-container-id-3 input.sk-toggleable__control:checked~div.sk-toggleable__content {max-height: 200px;max-width: 100%;overflow: auto;}#sk-container-id-3 input.sk-toggleable__control:checked~label.sk-toggleable__label-arrow:before {content: \"▾\";}#sk-container-id-3 div.sk-estimator input.sk-toggleable__control:checked~label.sk-toggleable__label {background-color: #d4ebff;}#sk-container-id-3 div.sk-label input.sk-toggleable__control:checked~label.sk-toggleable__label {background-color: #d4ebff;}#sk-container-id-3 input.sk-hidden--visually {border: 0;clip: rect(1px 1px 1px 1px);clip: rect(1px, 1px, 1px, 1px);height: 1px;margin: -1px;overflow: hidden;padding: 0;position: absolute;width: 1px;}#sk-container-id-3 div.sk-estimator {font-family: monospace;background-color: #f0f8ff;border: 1px dotted black;border-radius: 0.25em;box-sizing: border-box;margin-bottom: 0.5em;}#sk-container-id-3 div.sk-estimator:hover {background-color: #d4ebff;}#sk-container-id-3 div.sk-parallel-item::after {content: \"\";width: 100%;border-bottom: 1px solid gray;flex-grow: 1;}#sk-container-id-3 div.sk-label:hover label.sk-toggleable__label {background-color: #d4ebff;}#sk-container-id-3 div.sk-serial::before {content: \"\";position: absolute;border-left: 1px solid gray;box-sizing: border-box;top: 0;bottom: 0;left: 50%;z-index: 0;}#sk-container-id-3 div.sk-serial {display: flex;flex-direction: column;align-items: center;background-color: white;padding-right: 0.2em;padding-left: 0.2em;position: relative;}#sk-container-id-3 div.sk-item {position: relative;z-index: 1;}#sk-container-id-3 div.sk-parallel {display: flex;align-items: stretch;justify-content: center;background-color: white;position: relative;}#sk-container-id-3 div.sk-item::before, #sk-container-id-3 div.sk-parallel-item::before {content: \"\";position: absolute;border-left: 1px solid gray;box-sizing: border-box;top: 0;bottom: 0;left: 50%;z-index: -1;}#sk-container-id-3 div.sk-parallel-item {display: flex;flex-direction: column;z-index: 1;position: relative;background-color: white;}#sk-container-id-3 div.sk-parallel-item:first-child::after {align-self: flex-end;width: 50%;}#sk-container-id-3 div.sk-parallel-item:last-child::after {align-self: flex-start;width: 50%;}#sk-container-id-3 div.sk-parallel-item:only-child::after {width: 0;}#sk-container-id-3 div.sk-dashed-wrapped {border: 1px dashed gray;margin: 0 0.4em 0.5em 0.4em;box-sizing: border-box;padding-bottom: 0.4em;background-color: white;}#sk-container-id-3 div.sk-label label {font-family: monospace;font-weight: bold;display: inline-block;line-height: 1.2em;}#sk-container-id-3 div.sk-label-container {text-align: center;}#sk-container-id-3 div.sk-container {/* jupyter's `normalize.less` sets `[hidden] { display: none; }` but bootstrap.min.css set `[hidden] { display: none !important; }` so we also need the `!important` here to be able to override the default hidden behavior on the sphinx rendered scikit-learn.org. See: https://github.com/scikit-learn/scikit-learn/issues/21755 */display: inline-block !important;position: relative;}#sk-container-id-3 div.sk-text-repr-fallback {display: none;}</style><div id=\"sk-container-id-3\" class=\"sk-top-container\"><div class=\"sk-text-repr-fallback\"><pre>Pipeline(steps=[(&#x27;transformer&#x27;,\n",
       "                 ColumnTransformer(transformers=[(&#x27;cat_enc&#x27;,\n",
       "                                                  CatBoostEncoder(return_df=False),\n",
       "                                                  [&#x27;feature_13&#x27;, &#x27;feature_14&#x27;,\n",
       "                                                   &#x27;feature_17&#x27;, &#x27;feature_20&#x27;,\n",
       "                                                   &#x27;feature_5&#x27;, &#x27;feature_6&#x27;,\n",
       "                                                   &#x27;feature_7&#x27;]),\n",
       "                                                 (&#x27;ohe&#x27;,\n",
       "                                                  OneHotEncoder(dtype=&lt;class &#x27;numpy.uint8&#x27;&gt;,\n",
       "                                                                handle_unknown=&#x27;infrequent_if_exist&#x27;),\n",
       "                                                  Index([&#x27;feature_13&#x27;, &#x27;feature_14&#x27;, &#x27;feature_16&#x27;, &#x27;feature_17&#x27;, &#x27;feature_18&#x27;,\n",
       "       &#x27;feature_20&#x27;, &#x27;feature_5&#x27;, &#x27;feature_6&#x27;, &#x27;feature_7&#x27;, &#x27;feature_9&#x27;],\n",
       "      dtype=&#x27;object&#x27;)),\n",
       "                                                 (&#x27;robust_scaler&#x27;,\n",
       "                                                  RobustScaler(),\n",
       "                                                  [&#x27;feature_2&#x27;, &#x27;feature_3&#x27;,\n",
       "                                                   &#x27;feature_4&#x27;, &#x27;feature_10&#x27;,\n",
       "                                                   &#x27;feature_11&#x27;, &#x27;feature_12&#x27;,\n",
       "                                                   &#x27;feature_15&#x27;, &#x27;feature_19&#x27;,\n",
       "                                                   &#x27;feature_23&#x27;])])),\n",
       "                (&#x27;model&#x27;, BalancedRandomForestClassifier(n_jobs=7))])</pre><b>In a Jupyter environment, please rerun this cell to show the HTML representation or trust the notebook. <br />On GitHub, the HTML representation is unable to render, please try loading this page with nbviewer.org.</b></div><div class=\"sk-container\" hidden><div class=\"sk-item sk-dashed-wrapped\"><div class=\"sk-label-container\"><div class=\"sk-label sk-toggleable\"><input class=\"sk-toggleable__control sk-hidden--visually\" id=\"sk-estimator-id-17\" type=\"checkbox\" ><label for=\"sk-estimator-id-17\" class=\"sk-toggleable__label sk-toggleable__label-arrow\">Pipeline</label><div class=\"sk-toggleable__content\"><pre>Pipeline(steps=[(&#x27;transformer&#x27;,\n",
       "                 ColumnTransformer(transformers=[(&#x27;cat_enc&#x27;,\n",
       "                                                  CatBoostEncoder(return_df=False),\n",
       "                                                  [&#x27;feature_13&#x27;, &#x27;feature_14&#x27;,\n",
       "                                                   &#x27;feature_17&#x27;, &#x27;feature_20&#x27;,\n",
       "                                                   &#x27;feature_5&#x27;, &#x27;feature_6&#x27;,\n",
       "                                                   &#x27;feature_7&#x27;]),\n",
       "                                                 (&#x27;ohe&#x27;,\n",
       "                                                  OneHotEncoder(dtype=&lt;class &#x27;numpy.uint8&#x27;&gt;,\n",
       "                                                                handle_unknown=&#x27;infrequent_if_exist&#x27;),\n",
       "                                                  Index([&#x27;feature_13&#x27;, &#x27;feature_14&#x27;, &#x27;feature_16&#x27;, &#x27;feature_17&#x27;, &#x27;feature_18&#x27;,\n",
       "       &#x27;feature_20&#x27;, &#x27;feature_5&#x27;, &#x27;feature_6&#x27;, &#x27;feature_7&#x27;, &#x27;feature_9&#x27;],\n",
       "      dtype=&#x27;object&#x27;)),\n",
       "                                                 (&#x27;robust_scaler&#x27;,\n",
       "                                                  RobustScaler(),\n",
       "                                                  [&#x27;feature_2&#x27;, &#x27;feature_3&#x27;,\n",
       "                                                   &#x27;feature_4&#x27;, &#x27;feature_10&#x27;,\n",
       "                                                   &#x27;feature_11&#x27;, &#x27;feature_12&#x27;,\n",
       "                                                   &#x27;feature_15&#x27;, &#x27;feature_19&#x27;,\n",
       "                                                   &#x27;feature_23&#x27;])])),\n",
       "                (&#x27;model&#x27;, BalancedRandomForestClassifier(n_jobs=7))])</pre></div></div></div><div class=\"sk-serial\"><div class=\"sk-item sk-dashed-wrapped\"><div class=\"sk-label-container\"><div class=\"sk-label sk-toggleable\"><input class=\"sk-toggleable__control sk-hidden--visually\" id=\"sk-estimator-id-18\" type=\"checkbox\" ><label for=\"sk-estimator-id-18\" class=\"sk-toggleable__label sk-toggleable__label-arrow\">transformer: ColumnTransformer</label><div class=\"sk-toggleable__content\"><pre>ColumnTransformer(transformers=[(&#x27;cat_enc&#x27;, CatBoostEncoder(return_df=False),\n",
       "                                 [&#x27;feature_13&#x27;, &#x27;feature_14&#x27;, &#x27;feature_17&#x27;,\n",
       "                                  &#x27;feature_20&#x27;, &#x27;feature_5&#x27;, &#x27;feature_6&#x27;,\n",
       "                                  &#x27;feature_7&#x27;]),\n",
       "                                (&#x27;ohe&#x27;,\n",
       "                                 OneHotEncoder(dtype=&lt;class &#x27;numpy.uint8&#x27;&gt;,\n",
       "                                               handle_unknown=&#x27;infrequent_if_exist&#x27;),\n",
       "                                 Index([&#x27;feature_13&#x27;, &#x27;feature_14&#x27;, &#x27;feature_16&#x27;, &#x27;feature_17&#x27;, &#x27;feature_18&#x27;,\n",
       "       &#x27;feature_20&#x27;, &#x27;feature_5&#x27;, &#x27;feature_6&#x27;, &#x27;feature_7&#x27;, &#x27;feature_9&#x27;],\n",
       "      dtype=&#x27;object&#x27;)),\n",
       "                                (&#x27;robust_scaler&#x27;, RobustScaler(),\n",
       "                                 [&#x27;feature_2&#x27;, &#x27;feature_3&#x27;, &#x27;feature_4&#x27;,\n",
       "                                  &#x27;feature_10&#x27;, &#x27;feature_11&#x27;, &#x27;feature_12&#x27;,\n",
       "                                  &#x27;feature_15&#x27;, &#x27;feature_19&#x27;, &#x27;feature_23&#x27;])])</pre></div></div></div><div class=\"sk-parallel\"><div class=\"sk-parallel-item\"><div class=\"sk-item\"><div class=\"sk-label-container\"><div class=\"sk-label sk-toggleable\"><input class=\"sk-toggleable__control sk-hidden--visually\" id=\"sk-estimator-id-19\" type=\"checkbox\" ><label for=\"sk-estimator-id-19\" class=\"sk-toggleable__label sk-toggleable__label-arrow\">cat_enc</label><div class=\"sk-toggleable__content\"><pre>[&#x27;feature_13&#x27;, &#x27;feature_14&#x27;, &#x27;feature_17&#x27;, &#x27;feature_20&#x27;, &#x27;feature_5&#x27;, &#x27;feature_6&#x27;, &#x27;feature_7&#x27;]</pre></div></div></div><div class=\"sk-serial\"><div class=\"sk-item\"><div class=\"sk-estimator sk-toggleable\"><input class=\"sk-toggleable__control sk-hidden--visually\" id=\"sk-estimator-id-20\" type=\"checkbox\" ><label for=\"sk-estimator-id-20\" class=\"sk-toggleable__label sk-toggleable__label-arrow\">CatBoostEncoder</label><div class=\"sk-toggleable__content\"><pre>CatBoostEncoder(return_df=False)</pre></div></div></div></div></div></div><div class=\"sk-parallel-item\"><div class=\"sk-item\"><div class=\"sk-label-container\"><div class=\"sk-label sk-toggleable\"><input class=\"sk-toggleable__control sk-hidden--visually\" id=\"sk-estimator-id-21\" type=\"checkbox\" ><label for=\"sk-estimator-id-21\" class=\"sk-toggleable__label sk-toggleable__label-arrow\">ohe</label><div class=\"sk-toggleable__content\"><pre>Index([&#x27;feature_13&#x27;, &#x27;feature_14&#x27;, &#x27;feature_16&#x27;, &#x27;feature_17&#x27;, &#x27;feature_18&#x27;,\n",
       "       &#x27;feature_20&#x27;, &#x27;feature_5&#x27;, &#x27;feature_6&#x27;, &#x27;feature_7&#x27;, &#x27;feature_9&#x27;],\n",
       "      dtype=&#x27;object&#x27;)</pre></div></div></div><div class=\"sk-serial\"><div class=\"sk-item\"><div class=\"sk-estimator sk-toggleable\"><input class=\"sk-toggleable__control sk-hidden--visually\" id=\"sk-estimator-id-22\" type=\"checkbox\" ><label for=\"sk-estimator-id-22\" class=\"sk-toggleable__label sk-toggleable__label-arrow\">OneHotEncoder</label><div class=\"sk-toggleable__content\"><pre>OneHotEncoder(dtype=&lt;class &#x27;numpy.uint8&#x27;&gt;, handle_unknown=&#x27;infrequent_if_exist&#x27;)</pre></div></div></div></div></div></div><div class=\"sk-parallel-item\"><div class=\"sk-item\"><div class=\"sk-label-container\"><div class=\"sk-label sk-toggleable\"><input class=\"sk-toggleable__control sk-hidden--visually\" id=\"sk-estimator-id-23\" type=\"checkbox\" ><label for=\"sk-estimator-id-23\" class=\"sk-toggleable__label sk-toggleable__label-arrow\">robust_scaler</label><div class=\"sk-toggleable__content\"><pre>[&#x27;feature_2&#x27;, &#x27;feature_3&#x27;, &#x27;feature_4&#x27;, &#x27;feature_10&#x27;, &#x27;feature_11&#x27;, &#x27;feature_12&#x27;, &#x27;feature_15&#x27;, &#x27;feature_19&#x27;, &#x27;feature_23&#x27;]</pre></div></div></div><div class=\"sk-serial\"><div class=\"sk-item\"><div class=\"sk-estimator sk-toggleable\"><input class=\"sk-toggleable__control sk-hidden--visually\" id=\"sk-estimator-id-24\" type=\"checkbox\" ><label for=\"sk-estimator-id-24\" class=\"sk-toggleable__label sk-toggleable__label-arrow\">RobustScaler</label><div class=\"sk-toggleable__content\"><pre>RobustScaler()</pre></div></div></div></div></div></div></div></div><div class=\"sk-item\"><div class=\"sk-estimator sk-toggleable\"><input class=\"sk-toggleable__control sk-hidden--visually\" id=\"sk-estimator-id-25\" type=\"checkbox\" ><label for=\"sk-estimator-id-25\" class=\"sk-toggleable__label sk-toggleable__label-arrow\">BalancedRandomForestClassifier</label><div class=\"sk-toggleable__content\"><pre>BalancedRandomForestClassifier(n_jobs=7)</pre></div></div></div></div></div></div></div>"
      ],
      "text/plain": [
       "Pipeline(steps=[('transformer',\n",
       "                 ColumnTransformer(transformers=[('cat_enc',\n",
       "                                                  CatBoostEncoder(return_df=False),\n",
       "                                                  ['feature_13', 'feature_14',\n",
       "                                                   'feature_17', 'feature_20',\n",
       "                                                   'feature_5', 'feature_6',\n",
       "                                                   'feature_7']),\n",
       "                                                 ('ohe',\n",
       "                                                  OneHotEncoder(dtype=<class 'numpy.uint8'>,\n",
       "                                                                handle_unknown='infrequent_if_exist'),\n",
       "                                                  Index(['feature_13', 'feature_14', 'feature_16', 'feature_17', 'feature_18',\n",
       "       'feature_20', 'feature_5', 'feature_6', 'feature_7', 'feature_9'],\n",
       "      dtype='object')),\n",
       "                                                 ('robust_scaler',\n",
       "                                                  RobustScaler(),\n",
       "                                                  ['feature_2', 'feature_3',\n",
       "                                                   'feature_4', 'feature_10',\n",
       "                                                   'feature_11', 'feature_12',\n",
       "                                                   'feature_15', 'feature_19',\n",
       "                                                   'feature_23'])])),\n",
       "                ('model', BalancedRandomForestClassifier(n_jobs=7))])"
      ]
     },
     "execution_count": 8,
     "metadata": {},
     "output_type": "execute_result"
    }
   ],
   "source": [
    "balanced_rf_model = BalancedRandomForestClassifier(n_jobs=7)\n",
    "balanced_rf_pipeline = Pipeline(steps=[('transformer',column_transformer),('model',balanced_rf_model)])\n",
    "balanced_rf_pipeline"
   ]
  },
  {
   "cell_type": "code",
   "execution_count": null,
   "id": "0979dcf1",
   "metadata": {},
   "outputs": [],
   "source": [
    "cross_val_score(balanced_rf_pipeline,X=X,y=y,cv=3,scoring='f1',n_jobs=7)"
   ]
  },
  {
   "cell_type": "code",
   "execution_count": 9,
   "id": "e732d21b",
   "metadata": {},
   "outputs": [
    {
     "data": {
      "text/html": [
       "<style>#sk-container-id-4 {color: black;background-color: white;}#sk-container-id-4 pre{padding: 0;}#sk-container-id-4 div.sk-toggleable {background-color: white;}#sk-container-id-4 label.sk-toggleable__label {cursor: pointer;display: block;width: 100%;margin-bottom: 0;padding: 0.3em;box-sizing: border-box;text-align: center;}#sk-container-id-4 label.sk-toggleable__label-arrow:before {content: \"▸\";float: left;margin-right: 0.25em;color: #696969;}#sk-container-id-4 label.sk-toggleable__label-arrow:hover:before {color: black;}#sk-container-id-4 div.sk-estimator:hover label.sk-toggleable__label-arrow:before {color: black;}#sk-container-id-4 div.sk-toggleable__content {max-height: 0;max-width: 0;overflow: hidden;text-align: left;background-color: #f0f8ff;}#sk-container-id-4 div.sk-toggleable__content pre {margin: 0.2em;color: black;border-radius: 0.25em;background-color: #f0f8ff;}#sk-container-id-4 input.sk-toggleable__control:checked~div.sk-toggleable__content {max-height: 200px;max-width: 100%;overflow: auto;}#sk-container-id-4 input.sk-toggleable__control:checked~label.sk-toggleable__label-arrow:before {content: \"▾\";}#sk-container-id-4 div.sk-estimator input.sk-toggleable__control:checked~label.sk-toggleable__label {background-color: #d4ebff;}#sk-container-id-4 div.sk-label input.sk-toggleable__control:checked~label.sk-toggleable__label {background-color: #d4ebff;}#sk-container-id-4 input.sk-hidden--visually {border: 0;clip: rect(1px 1px 1px 1px);clip: rect(1px, 1px, 1px, 1px);height: 1px;margin: -1px;overflow: hidden;padding: 0;position: absolute;width: 1px;}#sk-container-id-4 div.sk-estimator {font-family: monospace;background-color: #f0f8ff;border: 1px dotted black;border-radius: 0.25em;box-sizing: border-box;margin-bottom: 0.5em;}#sk-container-id-4 div.sk-estimator:hover {background-color: #d4ebff;}#sk-container-id-4 div.sk-parallel-item::after {content: \"\";width: 100%;border-bottom: 1px solid gray;flex-grow: 1;}#sk-container-id-4 div.sk-label:hover label.sk-toggleable__label {background-color: #d4ebff;}#sk-container-id-4 div.sk-serial::before {content: \"\";position: absolute;border-left: 1px solid gray;box-sizing: border-box;top: 0;bottom: 0;left: 50%;z-index: 0;}#sk-container-id-4 div.sk-serial {display: flex;flex-direction: column;align-items: center;background-color: white;padding-right: 0.2em;padding-left: 0.2em;position: relative;}#sk-container-id-4 div.sk-item {position: relative;z-index: 1;}#sk-container-id-4 div.sk-parallel {display: flex;align-items: stretch;justify-content: center;background-color: white;position: relative;}#sk-container-id-4 div.sk-item::before, #sk-container-id-4 div.sk-parallel-item::before {content: \"\";position: absolute;border-left: 1px solid gray;box-sizing: border-box;top: 0;bottom: 0;left: 50%;z-index: -1;}#sk-container-id-4 div.sk-parallel-item {display: flex;flex-direction: column;z-index: 1;position: relative;background-color: white;}#sk-container-id-4 div.sk-parallel-item:first-child::after {align-self: flex-end;width: 50%;}#sk-container-id-4 div.sk-parallel-item:last-child::after {align-self: flex-start;width: 50%;}#sk-container-id-4 div.sk-parallel-item:only-child::after {width: 0;}#sk-container-id-4 div.sk-dashed-wrapped {border: 1px dashed gray;margin: 0 0.4em 0.5em 0.4em;box-sizing: border-box;padding-bottom: 0.4em;background-color: white;}#sk-container-id-4 div.sk-label label {font-family: monospace;font-weight: bold;display: inline-block;line-height: 1.2em;}#sk-container-id-4 div.sk-label-container {text-align: center;}#sk-container-id-4 div.sk-container {/* jupyter's `normalize.less` sets `[hidden] { display: none; }` but bootstrap.min.css set `[hidden] { display: none !important; }` so we also need the `!important` here to be able to override the default hidden behavior on the sphinx rendered scikit-learn.org. See: https://github.com/scikit-learn/scikit-learn/issues/21755 */display: inline-block !important;position: relative;}#sk-container-id-4 div.sk-text-repr-fallback {display: none;}</style><div id=\"sk-container-id-4\" class=\"sk-top-container\"><div class=\"sk-text-repr-fallback\"><pre>Pipeline(steps=[(&#x27;transformer&#x27;,\n",
       "                 ColumnTransformer(transformers=[(&#x27;cat_enc&#x27;,\n",
       "                                                  CatBoostEncoder(return_df=False),\n",
       "                                                  [&#x27;feature_13&#x27;, &#x27;feature_14&#x27;,\n",
       "                                                   &#x27;feature_17&#x27;, &#x27;feature_20&#x27;,\n",
       "                                                   &#x27;feature_5&#x27;, &#x27;feature_6&#x27;,\n",
       "                                                   &#x27;feature_7&#x27;]),\n",
       "                                                 (&#x27;ohe&#x27;,\n",
       "                                                  OneHotEncoder(dtype=&lt;class &#x27;numpy.uint8&#x27;&gt;,\n",
       "                                                                handle_unknown=&#x27;infrequent_if_exist&#x27;),\n",
       "                                                  Index([&#x27;feature_13&#x27;, &#x27;feature_14&#x27;, &#x27;feature_16&#x27;, &#x27;feature_17&#x27;, &#x27;feature_18&#x27;,\n",
       "       &#x27;feature_20&#x27;, &#x27;feature_5&#x27;, &#x27;feature_6&#x27;, &#x27;feature_7&#x27;, &#x27;feature_9&#x27;],\n",
       "      dtype=&#x27;object&#x27;)),\n",
       "                                                 (&#x27;robust_scaler&#x27;,\n",
       "                                                  RobustScaler(),\n",
       "                                                  [&#x27;feature_2&#x27;, &#x27;feature_3&#x27;,\n",
       "                                                   &#x27;feature_4&#x27;, &#x27;feature_10&#x27;,\n",
       "                                                   &#x27;feature_11&#x27;, &#x27;feature_12&#x27;,\n",
       "                                                   &#x27;feature_15&#x27;, &#x27;feature_19&#x27;,\n",
       "                                                   &#x27;feature_23&#x27;])])),\n",
       "                (&#x27;model&#x27;, EasyEnsembleClassifier(n_jobs=7))])</pre><b>In a Jupyter environment, please rerun this cell to show the HTML representation or trust the notebook. <br />On GitHub, the HTML representation is unable to render, please try loading this page with nbviewer.org.</b></div><div class=\"sk-container\" hidden><div class=\"sk-item sk-dashed-wrapped\"><div class=\"sk-label-container\"><div class=\"sk-label sk-toggleable\"><input class=\"sk-toggleable__control sk-hidden--visually\" id=\"sk-estimator-id-26\" type=\"checkbox\" ><label for=\"sk-estimator-id-26\" class=\"sk-toggleable__label sk-toggleable__label-arrow\">Pipeline</label><div class=\"sk-toggleable__content\"><pre>Pipeline(steps=[(&#x27;transformer&#x27;,\n",
       "                 ColumnTransformer(transformers=[(&#x27;cat_enc&#x27;,\n",
       "                                                  CatBoostEncoder(return_df=False),\n",
       "                                                  [&#x27;feature_13&#x27;, &#x27;feature_14&#x27;,\n",
       "                                                   &#x27;feature_17&#x27;, &#x27;feature_20&#x27;,\n",
       "                                                   &#x27;feature_5&#x27;, &#x27;feature_6&#x27;,\n",
       "                                                   &#x27;feature_7&#x27;]),\n",
       "                                                 (&#x27;ohe&#x27;,\n",
       "                                                  OneHotEncoder(dtype=&lt;class &#x27;numpy.uint8&#x27;&gt;,\n",
       "                                                                handle_unknown=&#x27;infrequent_if_exist&#x27;),\n",
       "                                                  Index([&#x27;feature_13&#x27;, &#x27;feature_14&#x27;, &#x27;feature_16&#x27;, &#x27;feature_17&#x27;, &#x27;feature_18&#x27;,\n",
       "       &#x27;feature_20&#x27;, &#x27;feature_5&#x27;, &#x27;feature_6&#x27;, &#x27;feature_7&#x27;, &#x27;feature_9&#x27;],\n",
       "      dtype=&#x27;object&#x27;)),\n",
       "                                                 (&#x27;robust_scaler&#x27;,\n",
       "                                                  RobustScaler(),\n",
       "                                                  [&#x27;feature_2&#x27;, &#x27;feature_3&#x27;,\n",
       "                                                   &#x27;feature_4&#x27;, &#x27;feature_10&#x27;,\n",
       "                                                   &#x27;feature_11&#x27;, &#x27;feature_12&#x27;,\n",
       "                                                   &#x27;feature_15&#x27;, &#x27;feature_19&#x27;,\n",
       "                                                   &#x27;feature_23&#x27;])])),\n",
       "                (&#x27;model&#x27;, EasyEnsembleClassifier(n_jobs=7))])</pre></div></div></div><div class=\"sk-serial\"><div class=\"sk-item sk-dashed-wrapped\"><div class=\"sk-label-container\"><div class=\"sk-label sk-toggleable\"><input class=\"sk-toggleable__control sk-hidden--visually\" id=\"sk-estimator-id-27\" type=\"checkbox\" ><label for=\"sk-estimator-id-27\" class=\"sk-toggleable__label sk-toggleable__label-arrow\">transformer: ColumnTransformer</label><div class=\"sk-toggleable__content\"><pre>ColumnTransformer(transformers=[(&#x27;cat_enc&#x27;, CatBoostEncoder(return_df=False),\n",
       "                                 [&#x27;feature_13&#x27;, &#x27;feature_14&#x27;, &#x27;feature_17&#x27;,\n",
       "                                  &#x27;feature_20&#x27;, &#x27;feature_5&#x27;, &#x27;feature_6&#x27;,\n",
       "                                  &#x27;feature_7&#x27;]),\n",
       "                                (&#x27;ohe&#x27;,\n",
       "                                 OneHotEncoder(dtype=&lt;class &#x27;numpy.uint8&#x27;&gt;,\n",
       "                                               handle_unknown=&#x27;infrequent_if_exist&#x27;),\n",
       "                                 Index([&#x27;feature_13&#x27;, &#x27;feature_14&#x27;, &#x27;feature_16&#x27;, &#x27;feature_17&#x27;, &#x27;feature_18&#x27;,\n",
       "       &#x27;feature_20&#x27;, &#x27;feature_5&#x27;, &#x27;feature_6&#x27;, &#x27;feature_7&#x27;, &#x27;feature_9&#x27;],\n",
       "      dtype=&#x27;object&#x27;)),\n",
       "                                (&#x27;robust_scaler&#x27;, RobustScaler(),\n",
       "                                 [&#x27;feature_2&#x27;, &#x27;feature_3&#x27;, &#x27;feature_4&#x27;,\n",
       "                                  &#x27;feature_10&#x27;, &#x27;feature_11&#x27;, &#x27;feature_12&#x27;,\n",
       "                                  &#x27;feature_15&#x27;, &#x27;feature_19&#x27;, &#x27;feature_23&#x27;])])</pre></div></div></div><div class=\"sk-parallel\"><div class=\"sk-parallel-item\"><div class=\"sk-item\"><div class=\"sk-label-container\"><div class=\"sk-label sk-toggleable\"><input class=\"sk-toggleable__control sk-hidden--visually\" id=\"sk-estimator-id-28\" type=\"checkbox\" ><label for=\"sk-estimator-id-28\" class=\"sk-toggleable__label sk-toggleable__label-arrow\">cat_enc</label><div class=\"sk-toggleable__content\"><pre>[&#x27;feature_13&#x27;, &#x27;feature_14&#x27;, &#x27;feature_17&#x27;, &#x27;feature_20&#x27;, &#x27;feature_5&#x27;, &#x27;feature_6&#x27;, &#x27;feature_7&#x27;]</pre></div></div></div><div class=\"sk-serial\"><div class=\"sk-item\"><div class=\"sk-estimator sk-toggleable\"><input class=\"sk-toggleable__control sk-hidden--visually\" id=\"sk-estimator-id-29\" type=\"checkbox\" ><label for=\"sk-estimator-id-29\" class=\"sk-toggleable__label sk-toggleable__label-arrow\">CatBoostEncoder</label><div class=\"sk-toggleable__content\"><pre>CatBoostEncoder(return_df=False)</pre></div></div></div></div></div></div><div class=\"sk-parallel-item\"><div class=\"sk-item\"><div class=\"sk-label-container\"><div class=\"sk-label sk-toggleable\"><input class=\"sk-toggleable__control sk-hidden--visually\" id=\"sk-estimator-id-30\" type=\"checkbox\" ><label for=\"sk-estimator-id-30\" class=\"sk-toggleable__label sk-toggleable__label-arrow\">ohe</label><div class=\"sk-toggleable__content\"><pre>Index([&#x27;feature_13&#x27;, &#x27;feature_14&#x27;, &#x27;feature_16&#x27;, &#x27;feature_17&#x27;, &#x27;feature_18&#x27;,\n",
       "       &#x27;feature_20&#x27;, &#x27;feature_5&#x27;, &#x27;feature_6&#x27;, &#x27;feature_7&#x27;, &#x27;feature_9&#x27;],\n",
       "      dtype=&#x27;object&#x27;)</pre></div></div></div><div class=\"sk-serial\"><div class=\"sk-item\"><div class=\"sk-estimator sk-toggleable\"><input class=\"sk-toggleable__control sk-hidden--visually\" id=\"sk-estimator-id-31\" type=\"checkbox\" ><label for=\"sk-estimator-id-31\" class=\"sk-toggleable__label sk-toggleable__label-arrow\">OneHotEncoder</label><div class=\"sk-toggleable__content\"><pre>OneHotEncoder(dtype=&lt;class &#x27;numpy.uint8&#x27;&gt;, handle_unknown=&#x27;infrequent_if_exist&#x27;)</pre></div></div></div></div></div></div><div class=\"sk-parallel-item\"><div class=\"sk-item\"><div class=\"sk-label-container\"><div class=\"sk-label sk-toggleable\"><input class=\"sk-toggleable__control sk-hidden--visually\" id=\"sk-estimator-id-32\" type=\"checkbox\" ><label for=\"sk-estimator-id-32\" class=\"sk-toggleable__label sk-toggleable__label-arrow\">robust_scaler</label><div class=\"sk-toggleable__content\"><pre>[&#x27;feature_2&#x27;, &#x27;feature_3&#x27;, &#x27;feature_4&#x27;, &#x27;feature_10&#x27;, &#x27;feature_11&#x27;, &#x27;feature_12&#x27;, &#x27;feature_15&#x27;, &#x27;feature_19&#x27;, &#x27;feature_23&#x27;]</pre></div></div></div><div class=\"sk-serial\"><div class=\"sk-item\"><div class=\"sk-estimator sk-toggleable\"><input class=\"sk-toggleable__control sk-hidden--visually\" id=\"sk-estimator-id-33\" type=\"checkbox\" ><label for=\"sk-estimator-id-33\" class=\"sk-toggleable__label sk-toggleable__label-arrow\">RobustScaler</label><div class=\"sk-toggleable__content\"><pre>RobustScaler()</pre></div></div></div></div></div></div></div></div><div class=\"sk-item\"><div class=\"sk-estimator sk-toggleable\"><input class=\"sk-toggleable__control sk-hidden--visually\" id=\"sk-estimator-id-34\" type=\"checkbox\" ><label for=\"sk-estimator-id-34\" class=\"sk-toggleable__label sk-toggleable__label-arrow\">EasyEnsembleClassifier</label><div class=\"sk-toggleable__content\"><pre>EasyEnsembleClassifier(n_jobs=7)</pre></div></div></div></div></div></div></div>"
      ],
      "text/plain": [
       "Pipeline(steps=[('transformer',\n",
       "                 ColumnTransformer(transformers=[('cat_enc',\n",
       "                                                  CatBoostEncoder(return_df=False),\n",
       "                                                  ['feature_13', 'feature_14',\n",
       "                                                   'feature_17', 'feature_20',\n",
       "                                                   'feature_5', 'feature_6',\n",
       "                                                   'feature_7']),\n",
       "                                                 ('ohe',\n",
       "                                                  OneHotEncoder(dtype=<class 'numpy.uint8'>,\n",
       "                                                                handle_unknown='infrequent_if_exist'),\n",
       "                                                  Index(['feature_13', 'feature_14', 'feature_16', 'feature_17', 'feature_18',\n",
       "       'feature_20', 'feature_5', 'feature_6', 'feature_7', 'feature_9'],\n",
       "      dtype='object')),\n",
       "                                                 ('robust_scaler',\n",
       "                                                  RobustScaler(),\n",
       "                                                  ['feature_2', 'feature_3',\n",
       "                                                   'feature_4', 'feature_10',\n",
       "                                                   'feature_11', 'feature_12',\n",
       "                                                   'feature_15', 'feature_19',\n",
       "                                                   'feature_23'])])),\n",
       "                ('model', EasyEnsembleClassifier(n_jobs=7))])"
      ]
     },
     "execution_count": 9,
     "metadata": {},
     "output_type": "execute_result"
    }
   ],
   "source": [
    "easy_model = EasyEnsembleClassifier(n_jobs=7)\n",
    "easy_pipeline = Pipeline(steps=[('transformer',column_transformer),('model',easy_model)])\n",
    "easy_pipeline"
   ]
  },
  {
   "cell_type": "code",
   "execution_count": null,
   "id": "1960b020",
   "metadata": {},
   "outputs": [],
   "source": [
    "cross_val_score(easy_pipeline,X=X,y=y,cv=3,scoring='f1',n_jobs=7)"
   ]
  }
 ],
 "metadata": {
  "kernelspec": {
   "display_name": "Python 3 (ipykernel)",
   "language": "python",
   "name": "python3"
  },
  "language_info": {
   "codemirror_mode": {
    "name": "ipython",
    "version": 3
   },
   "file_extension": ".py",
   "mimetype": "text/x-python",
   "name": "python",
   "nbconvert_exporter": "python",
   "pygments_lexer": "ipython3",
   "version": "3.10.0"
  }
 },
 "nbformat": 4,
 "nbformat_minor": 5
}
