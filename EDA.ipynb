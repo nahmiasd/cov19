{
 "cells": [
  {
   "cell_type": "code",
   "execution_count": 1,
   "id": "0fde2a11",
   "metadata": {},
   "outputs": [],
   "source": [
    "import pandas as pd\n",
    "from pandas_profiling import ProfileReport\n",
    "from utils import load_data"
   ]
  },
  {
   "cell_type": "code",
   "execution_count": null,
   "id": "e97f5e19",
   "metadata": {},
   "outputs": [],
   "source": [
    "df = load_data()"
   ]
  },
  {
   "cell_type": "code",
   "execution_count": null,
   "id": "480b7096",
   "metadata": {},
   "outputs": [],
   "source": [
    "profile = ProfileReport(df.reset_index(drop=True).drop('feature_1',axis=1), title=\"Covid DF Profiling Report\",\n",
    "                       interactions={'continuous': True,'targets':['label']})\n",
    "profile.to_file(\"eda_interactions.html\")"
   ]
  },
  {
   "cell_type": "markdown",
   "id": "fbaab16b",
   "metadata": {},
   "source": [
    "# EDA Summary:\n",
    "* Features are overall highly correlated with each other but not with the target variable.\n",
    "* Most of the categorical features have very high cardinality. However, their histogram is skewed towards 2 or 3 values.\n",
    "* High cardinality should be dealt with by either unifying non-frequent values or target encoding.\n",
    "* The target variable is unbalanced\n",
    "* From the interaction plot, we can infer that there is a mild correlation between the target variable and features 7,9,18,20\n",
    "* Some extremely high cardinality features are suspected to be numerical features in string representation."
   ]
  }
 ],
 "metadata": {
  "kernelspec": {
   "display_name": "Python 3 (ipykernel)",
   "language": "python",
   "name": "python3"
  },
  "language_info": {
   "codemirror_mode": {
    "name": "ipython",
    "version": 3
   },
   "file_extension": ".py",
   "mimetype": "text/x-python",
   "name": "python",
   "nbconvert_exporter": "python",
   "pygments_lexer": "ipython3",
   "version": "3.10.0"
  }
 },
 "nbformat": 4,
 "nbformat_minor": 5
}
